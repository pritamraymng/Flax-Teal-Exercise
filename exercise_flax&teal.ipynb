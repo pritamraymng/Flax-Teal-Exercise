{
 "cells": [
  {
   "cell_type": "code",
   "execution_count": 3,
   "id": "4b4d29da",
   "metadata": {},
   "outputs": [
    {
     "name": "stdout",
     "output_type": "stream",
     "text": [
      "at the point t= 0.00, Solution by fourth order RK method is y= 0.50 \n",
      "at the point t= 0.20, Solution by fourth order RK method is y= 0.83 \n",
      "at the point t= 0.40, Solution by fourth order RK method is y= 1.21 \n",
      "at the point t= 0.60, Solution by fourth order RK method is y= 1.65 \n",
      "at the point t= 0.80, Solution by fourth order RK method is y= 2.13 \n",
      "at the point t= 1.00, Solution by fourth order RK method is y= 2.64 \n",
      "at the point t= 1.20, Solution by fourth order RK method is y= 3.18 \n",
      "at the point t= 1.40, Solution by fourth order RK method is y= 3.73 \n",
      "at the point t= 1.60, Solution by fourth order RK method is y= 4.28 \n",
      "at the point t= 1.80, Solution by fourth order RK method is y= 4.82 \n",
      "at the point t= 2.00, Solution by fourth order RK method is y= 5.31 \n"
     ]
    }
   ],
   "source": [
    "#Pritam Ray, M.Tech IMSC at IIT Madras\n",
    "\n",
    "def f(t,y):                   #defining the functioon      \n",
    "    return 1- t**2+ y\n",
    "\n",
    "#define initial conditions and step length\n",
    "a= 0                          #left end point\n",
    "b= 2                          #right end point\n",
    "n= 10                         #number of subdivision in the interval (0,2)\n",
    "h= (b-a)/n                    # step length\n",
    "\n",
    "t0= 0                         #initial condition\n",
    "y0= 0.5                       #initial condition  y(0)=0.5\n",
    "\n",
    "t_value= [t0]                 #creating a list for t values\n",
    "y_value= [y0]                 #creating a list for y value\n",
    "\n",
    "#define RK method of fourth order\n",
    "# y= y0+ K, where K= (K1+ 2K2+ 2K3+ K4)/6\n",
    "\n",
    "def Runge_Kutta_fourth(f, t0, y0, h, n):\n",
    "    t= t0                     #initializing t inside the for loop\n",
    "    y= y0                     #initializing y inside the for loop\n",
    "    for i in range(10):\n",
    "        K1= h*f(t, y)\n",
    "        K2= h*f(t+ 0.5*h, y+ 0.5*K1)\n",
    "        K3= h*f(t+ 0.5*h, y+ 0.5*K2)\n",
    "        K4= h*f(t+ h, y+ K3)\n",
    "        t= t+ h\n",
    "        y= y+ (K1+ 2*K2+ 2*K3+ K4)/6\n",
    "        t_value.append(t)      #.append(t) will add the updated t value to the list t_value from the end\n",
    "        y_value.append(y)      # .append(y) will add the updated y value to the list y_value from the end\n",
    "    return t_value, y_value \n",
    "\n",
    "#Calling function\n",
    "t_value, y_value= Runge_Kutta_fourth(f, t0, y0, h, n)\n",
    "\n",
    "#printing the value of y at every t in (0,2) with step length h\n",
    "for i in range(len(t_value)):\n",
    "    t= t_value[i]\n",
    "    y= y_value[i]\n",
    "    print(f\"at the point t={t: 0.2f}, Solution by fourth order RK method is y={y: 0.2f} \")   #printing by f string\n",
    "                                                                                          # Taking 2 digits after decimal place\n",
    "\n",
    "\n",
    "        \n",
    "\n"
   ]
  },
  {
   "cell_type": "code",
   "execution_count": null,
   "id": "c3e5feb5",
   "metadata": {},
   "outputs": [],
   "source": []
  }
 ],
 "metadata": {
  "kernelspec": {
   "display_name": "Python 3 (ipykernel)",
   "language": "python",
   "name": "python3"
  },
  "language_info": {
   "codemirror_mode": {
    "name": "ipython",
    "version": 3
   },
   "file_extension": ".py",
   "mimetype": "text/x-python",
   "name": "python",
   "nbconvert_exporter": "python",
   "pygments_lexer": "ipython3",
   "version": "3.11.5"
  }
 },
 "nbformat": 4,
 "nbformat_minor": 5
}
